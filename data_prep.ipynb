{
 "cells": [
  {
   "cell_type": "markdown",
   "id": "fe1d4e91-01ea-4ebc-9cca-8460980f6f78",
   "metadata": {},
   "source": [
    "# Purpose\n",
    "The goal of this notebook is to get the data and familiarize ourselves with what we have to work with. We're going to check out duplicates, missing values, data formatting, and some exploratory analysis to develop an understanding of the data."
   ]
  },
  {
   "cell_type": "markdown",
   "id": "ced3177b-1750-4554-9df5-d3876f56a6ca",
   "metadata": {},
   "source": [
    "## Getting the Data\n",
    "Since the API for this data is not currently available, I will provide the data I use in the repository. I will use [**pandas.read_csv**](https://pandas.pydata.org/docs/reference/api/pandas.read_excel.html) to get the data available in the Git repository. I have my local path to the data stored in an .env file, so I will access the data by using the **os** module"
   ]
  },
  {
   "cell_type": "code",
   "execution_count": null,
   "id": "8ae70394-adf3-4035-b579-63717343e2d0",
   "metadata": {},
   "outputs": [],
   "source": [
    "# importing os module for environment variables\n",
    "import os\n",
    "# importing necessary functions from dotenv library\n",
    "from dotenv import load_dotenv, dotenv_values \n",
    "# loading variables from .env file\n",
    "load_dotenv() \n",
    "\n",
    "# accessing and printing value\n",
    "print(os.getenv(\"repo_path\"))"
   ]
  }
 ],
 "metadata": {
  "kernelspec": {
   "display_name": "Python [conda env:base] *",
   "language": "python",
   "name": "conda-base-py"
  },
  "language_info": {
   "codemirror_mode": {
    "name": "ipython",
    "version": 3
   },
   "file_extension": ".py",
   "mimetype": "text/x-python",
   "name": "python",
   "nbconvert_exporter": "python",
   "pygments_lexer": "ipython3",
   "version": "3.12.7"
  }
 },
 "nbformat": 4,
 "nbformat_minor": 5
}

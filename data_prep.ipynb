{
 "cells": [
  {
   "cell_type": "markdown",
   "id": "fe1d4e91-01ea-4ebc-9cca-8460980f6f78",
   "metadata": {},
   "source": [
    "# Purpose\n",
    "The goal of this notebook is to get the data and familiarize ourselves with what we have to work with. We're going to check out duplicates, missing values, data formatting, and some exploratory analysis to develop an understanding of the data."
   ]
  },
  {
   "cell_type": "markdown",
   "id": "ced3177b-1750-4554-9df5-d3876f56a6ca",
   "metadata": {},
   "source": [
    "## Getting the Data\n",
    "Since the API for this data is not currently available, I will provide the data I use in the repository. I will use [**pandas.read_csv**](https://pandas.pydata.org/docs/reference/api/pandas.read_excel.html) to get the data available in the Git repository. I have my local path to the data stored in an .env file, so I will access the data by using the **os** module"
   ]
  },
  {
   "cell_type": "code",
   "execution_count": 6,
   "id": "8ae70394-adf3-4035-b579-63717343e2d0",
   "metadata": {},
   "outputs": [
    {
     "ename": "SyntaxError",
     "evalue": "invalid syntax (860409822.py, line 9)",
     "output_type": "error",
     "traceback": [
      "\u001b[1;36m  Cell \u001b[1;32mIn[6], line 9\u001b[1;36m\u001b[0m\n\u001b[1;33m    print(os.getenv(&quot;repo_path&quot;))\u001b[0m\n\u001b[1;37m                    ^\u001b[0m\n\u001b[1;31mSyntaxError\u001b[0m\u001b[1;31m:\u001b[0m invalid syntax\n"
     ]
    }
   ],
   "source": [
    "# importing os module for environment variables\n",
    "import os\n",
    "# importing necessary functions from dotenv library\n",
    "from dotenv import load_dotenv, dotenv_values \n",
    "# loading variables from .env file\n",
    "load_dotenv() \n",
    "\n",
    "# accessing and printing value\n",
    "print(os.getenv(\"repo_path\"))"
   ]
  },
  {
   "cell_type": "code",
   "execution_count": null,
   "id": "7b11588a-14f3-4e27-b0c8-e14de1d7bd2e",
   "metadata": {},
   "outputs": [],
   "source": []
  }
 ],
 "metadata": {
  "kernelspec": {
   "display_name": "Python [conda env:base] *",
   "language": "python",
   "name": "conda-base-py"
  },
  "language_info": {
   "codemirror_mode": {
    "name": "ipython",
    "version": 3
   },
   "file_extension": ".py",
   "mimetype": "text/x-python",
   "name": "python",
   "nbconvert_exporter": "python",
   "pygments_lexer": "ipython3",
   "version": "3.12.7"
  }
 },
 "nbformat": 4,
 "nbformat_minor": 5
}
